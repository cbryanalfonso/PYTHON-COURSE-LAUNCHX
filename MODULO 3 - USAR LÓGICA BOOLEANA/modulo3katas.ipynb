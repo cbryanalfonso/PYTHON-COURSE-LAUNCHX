{
 "cells": [
  {
   "cell_type": "code",
   "execution_count": 2,
   "metadata": {},
   "outputs": [
    {
     "name": "stdout",
     "output_type": "stream",
     "text": [
      "El asteroide va demasiado rapido\n"
     ]
    }
   ],
   "source": [
    "asteroide = 49 \n",
    "if asteroide  > 25:\n",
    "    print(\"El asteroide va demasiado rapido\")\n",
    "else:\n",
    "    print(\"No hay pedo, todo al 100\")"
   ]
  },
  {
   "cell_type": "markdown",
   "metadata": {},
   "source": [
    "Segundo ejercicio"
   ]
  },
  {
   "cell_type": "code",
   "execution_count": 6,
   "metadata": {},
   "outputs": [
    {
     "name": "stdout",
     "output_type": "stream",
     "text": [
      "No hay asteroide\n"
     ]
    }
   ],
   "source": [
    "asteroide  = 19\n",
    "\n",
    "if asteroide == 20:\n",
    "    print(\"Se puede ver la luz de un rayo en el cielo\")\n",
    "elif asteroide > 20:\n",
    "    print(\"Se puede ver la luz de un rayo en el cielo\")\n",
    "else:\n",
    "    print(\"No hay asteroide\")\n"
   ]
  },
  {
   "cell_type": "markdown",
   "metadata": {},
   "source": [
    "TERCER EJERCICIO\n"
   ]
  },
  {
   "cell_type": "code",
   "execution_count": 16,
   "metadata": {},
   "outputs": [
    {
     "name": "stdout",
     "output_type": "stream",
     "text": [
      "Se puede ver una luz en el cielo\n"
     ]
    }
   ],
   "source": [
    "velocidadAsteroide = 20\n",
    "tamanioAsteroide = 800\n",
    "\n",
    "if tamanioAsteroide < 25:\n",
    "    print(\"El asteroide se quemara al entrar a la atmosfera \")\n",
    "elif (tamanioAsteroide > 25 and tamanioAsteroide < 1000) and velocidadAsteroide > 25:\n",
    "    print(\"El asteroide causara mucho daño si toca a la tierra\")\n",
    "elif velocidadAsteroide >= 20:\n",
    "    print(\"Se puede ver una luz en el cielo\")\n",
    "else:\n",
    "    print(\"No hay nada aqui\")"
   ]
  }
 ],
 "metadata": {
  "interpreter": {
   "hash": "109eed39d9244ee0e3ac422374482ae5271d06fb535deb78c197011acae332d2"
  },
  "kernelspec": {
   "display_name": "Python 3.9.10 64-bit (windows store)",
   "language": "python",
   "name": "python3"
  },
  "language_info": {
   "codemirror_mode": {
    "name": "ipython",
    "version": 3
   },
   "file_extension": ".py",
   "mimetype": "text/x-python",
   "name": "python",
   "nbconvert_exporter": "python",
   "pygments_lexer": "ipython3",
   "version": "3.9.10"
  },
  "orig_nbformat": 4
 },
 "nbformat": 4,
 "nbformat_minor": 2
}
