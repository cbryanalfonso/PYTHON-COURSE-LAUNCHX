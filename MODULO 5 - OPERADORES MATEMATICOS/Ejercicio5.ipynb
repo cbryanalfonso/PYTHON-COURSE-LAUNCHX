{
 "cells": [
  {
   "cell_type": "code",
   "execution_count": 13,
   "metadata": {},
   "outputs": [],
   "source": [
    "distanciaTierra = 149597870\n",
    "distanciaJupiter = 778547200"
   ]
  },
  {
   "cell_type": "code",
   "execution_count": 14,
   "metadata": {},
   "outputs": [
    {
     "name": "stdout",
     "output_type": "stream",
     "text": [
      "628949330\n"
     ]
    }
   ],
   "source": [
    "distanciaPlanetas = abs(distanciaTierra-distanciaJupiter)\n",
    "print(distanciaPlanetas)"
   ]
  },
  {
   "cell_type": "code",
   "execution_count": 16,
   "metadata": {},
   "outputs": [
    {
     "name": "stdout",
     "output_type": "stream",
     "text": [
      "390577533.93\n"
     ]
    }
   ],
   "source": [
    "distanciaMillas = distanciaPlanetas  * 0.621\n",
    "print(distanciaMillas)"
   ]
  },
  {
   "cell_type": "markdown",
   "metadata": {},
   "source": [
    "# EJERCICIO 2\n"
   ]
  },
  {
   "cell_type": "code",
   "execution_count": 17,
   "metadata": {},
   "outputs": [],
   "source": [
    "distanciaPlanetauno = int(input(\"Ingrese la distancia del planeta 1 con la distancia del sol ..\"))\n",
    "distanciaPlanetados = int(input(\"Ingrese la distancia del segundo planeta con respecto al sol ...\"))"
   ]
  },
  {
   "cell_type": "code",
   "execution_count": 18,
   "metadata": {},
   "outputs": [
    {
     "name": "stdout",
     "output_type": "stream",
     "text": [
      "distancia en kilometros 50300000\n"
     ]
    }
   ],
   "source": [
    "disntacia = abs(distanciaPlanetauno - distanciaPlanetados)\n",
    "print(f'distancia en kilometros {disntacia}')"
   ]
  },
  {
   "cell_type": "code",
   "execution_count": 19,
   "metadata": {},
   "outputs": [
    {
     "name": "stdout",
     "output_type": "stream",
     "text": [
      "31236300.0\n"
     ]
    }
   ],
   "source": [
    "distanciaMillasdos = disntacia * 0.621\n",
    "print(distanciaMillasdos)"
   ]
  }
 ],
 "metadata": {
  "interpreter": {
   "hash": "109eed39d9244ee0e3ac422374482ae5271d06fb535deb78c197011acae332d2"
  },
  "kernelspec": {
   "display_name": "Python 3.9.10 64-bit (windows store)",
   "language": "python",
   "name": "python3"
  },
  "language_info": {
   "codemirror_mode": {
    "name": "ipython",
    "version": 3
   },
   "file_extension": ".py",
   "mimetype": "text/x-python",
   "name": "python",
   "nbconvert_exporter": "python",
   "pygments_lexer": "ipython3",
   "version": "3.9.10"
  },
  "orig_nbformat": 4
 },
 "nbformat": 4,
 "nbformat_minor": 2
}
