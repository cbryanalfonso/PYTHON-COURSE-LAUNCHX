{
 "cells": [
  {
   "cell_type": "markdown",
   "metadata": {},
   "source": [
    "### EJERCICIO 1.\n"
   ]
  },
  {
   "cell_type": "code",
   "execution_count": 2,
   "metadata": {},
   "outputs": [
    {
     "name": "stdout",
     "output_type": "stream",
     "text": [
      "Reporte de gasolina:\n",
      "        Total : 133.33333333333334\n",
      "        Tanque 1 : 100\n",
      "        Tanque 2: 200\n",
      "        Tanque 3: 100\n",
      "    \n"
     ]
    }
   ],
   "source": [
    "def combustible(tanque1, tanque2, tanque3):\n",
    "    total = (tanque1+tanque2+tanque3)/3\n",
    "    return f\"\"\"Reporte de gasolina:\n",
    "        Total : {total}\n",
    "        Tanque 1 : {tanque1}\n",
    "        Tanque 2: {tanque2}\n",
    "        Tanque 3: {tanque3}\n",
    "    \"\"\"\n",
    "\n",
    "\n",
    "\n",
    "print(combustible(100, 200, 100))"
   ]
  },
  {
   "cell_type": "code",
   "execution_count": 4,
   "metadata": {},
   "outputs": [],
   "source": [
    "def totalPromedio (valores):\n",
    "    suma = sum(valores)\n",
    "    total = suma / len(valores)\n",
    "    return total\n",
    "\n",
    "    "
   ]
  },
  {
   "cell_type": "code",
   "execution_count": 5,
   "metadata": {},
   "outputs": [],
   "source": [
    "def actualizacion(tanque1, tanque2, tanque3):\n",
    "    total = totalPromedio([tanque1, tanque2, tanque3])\n",
    "    return f\"\"\"Reporte de gasolina:\n",
    "        Total : {total}\n",
    "        Tanque 1 : {tanque1}\n",
    "        Tanque 2: {tanque2}\n",
    "        Tanque 3: {tanque3}\n",
    "    \"\"\""
   ]
  },
  {
   "cell_type": "code",
   "execution_count": 6,
   "metadata": {},
   "outputs": [
    {
     "name": "stdout",
     "output_type": "stream",
     "text": [
      "Reporte de gasolina:\n",
      "        Total : 133.33333333333334\n",
      "        Tanque 1 : 100\n",
      "        Tanque 2: 200\n",
      "        Tanque 3: 100\n",
      "    \n"
     ]
    }
   ],
   "source": [
    "print(combustible(100, 200, 100))"
   ]
  },
  {
   "cell_type": "markdown",
   "metadata": {},
   "source": [
    "### EJERCICIO 2."
   ]
  },
  {
   "cell_type": "code",
   "execution_count": 6,
   "metadata": {},
   "outputs": [
    {
     "name": "stdout",
     "output_type": "stream",
     "text": [
      "\n",
      "    Mision a Luna\n",
      "    Tiempo de viaje : 65 minutos\n",
      "    Total de combustible : 500000 litros\n",
      "    \n"
     ]
    }
   ],
   "source": [
    "def mision(hora, tVuelo, destino, tExterno, tInterno):\n",
    "    return f\"\"\"\n",
    "    Mision a {destino}\n",
    "    Tiempo de viaje : {tVuelo + hora} minutos\n",
    "    Total de combustible : { tExterno + tInterno } litros\n",
    "    \"\"\"\n",
    "\n",
    "print(mision(14, 51, \"Luna\", 200000, 300000))"
   ]
  },
  {
   "cell_type": "code",
   "execution_count": 7,
   "metadata": {},
   "outputs": [
    {
     "name": "stdout",
     "output_type": "stream",
     "text": [
      "\n",
      "    Mision a Luna\n",
      "    Tiempo de viaje : 76 minutos\n",
      "    Total de combustible : 500000 litros\n",
      "    \n"
     ]
    }
   ],
   "source": [
    "def mision(destino, *tiempo, **combustible):\n",
    "    return f\"\"\"\n",
    "    Mision a {destino}\n",
    "    Tiempo de viaje : {sum(tiempo)} minutos\n",
    "    Total de combustible : { sum(combustible.values()) } litros\n",
    "    \"\"\"\n",
    "\n",
    "print(mision(\"Luna\", 10, 15, 51, main=300000, external=200000))"
   ]
  },
  {
   "cell_type": "code",
   "execution_count": 10,
   "metadata": {},
   "outputs": [
    {
     "name": "stdout",
     "output_type": "stream",
     "text": [
      "\n",
      "    Mision a Luna\n",
      "    Tiempo de viaje : 76 minutos\n",
      "    Total de combustible : 824242 litros\n",
      "    El tanque principal tiene 300000 litros restantes \n",
      "El tanque Segundo tiene 200000 litros restantes \n",
      "El tanque Tercero tiene 324242 litros restantes \n",
      "\n"
     ]
    }
   ],
   "source": [
    "def mision(destino, *tiempo, **combustible):\n",
    "    reporte = f\"\"\"\n",
    "    Mision a {destino}\n",
    "    Tiempo de viaje : {sum(tiempo)} minutos\n",
    "    Total de combustible : { sum(combustible.values()) } litros\n",
    "    \"\"\"\n",
    "\n",
    "    for nombre, litros in combustible.items():\n",
    "        reporte += f'El tanque {nombre} tiene {litros} litros restantes \\n'\n",
    "    return reporte \n",
    "\n",
    "print(mision(\"Luna\", 10, 15, 51, principal=300000, Segundo=200000, Tercero = 324242))"
   ]
  }
 ],
 "metadata": {
  "interpreter": {
   "hash": "109eed39d9244ee0e3ac422374482ae5271d06fb535deb78c197011acae332d2"
  },
  "kernelspec": {
   "display_name": "Python 3.9.10 64-bit (windows store)",
   "language": "python",
   "name": "python3"
  },
  "language_info": {
   "codemirror_mode": {
    "name": "ipython",
    "version": 3
   },
   "file_extension": ".py",
   "mimetype": "text/x-python",
   "name": "python",
   "nbconvert_exporter": "python",
   "pygments_lexer": "ipython3",
   "version": "3.9.10"
  },
  "orig_nbformat": 4
 },
 "nbformat": 4,
 "nbformat_minor": 2
}
